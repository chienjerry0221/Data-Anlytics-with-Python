{
 "cells": [
  {
   "attachments": {},
   "cell_type": "markdown",
   "metadata": {},
   "source": [
    "Write a Python script to \n",
    "1. Read-in the titanic data (titanic_traning.csv). The data is available in the homework folder. You may use read_csv().\n",
    "2. Identify the severity of the missing value problem and data inconsistency problem. Specifically, generate summary of missing values, and inconsistent values for each of the features."
   ]
  },
  {
   "cell_type": "code",
   "execution_count": 1,
   "metadata": {},
   "outputs": [],
   "source": [
    "import numpy as np\n",
    "import pandas as pd"
   ]
  },
  {
   "cell_type": "code",
   "execution_count": 2,
   "metadata": {},
   "outputs": [],
   "source": [
    "df = pd.read_csv(\"titanic_traning.csv\")"
   ]
  },
  {
   "cell_type": "markdown",
   "metadata": {},
   "source": [
    "## Create the empty data frame in order to store the information of missing and inconsistent values."
   ]
  },
  {
   "cell_type": "code",
   "execution_count": 3,
   "metadata": {},
   "outputs": [],
   "source": [
    "features = df.columns #  Extract the features of data frame \n",
    "# Create an all zero data frame to sotre the information of missing and inconsistent values\n",
    "df_m_i = pd.DataFrame(0,\n",
    "                      columns = [\"Missing Values (MV)\", \"% of MV (MV/n)\", \"Inconsistency Values (IV)\", \"% of IV (IV/n)\"],\n",
    "                      index = features[1:])"
   ]
  },
  {
   "cell_type": "markdown",
   "metadata": {},
   "source": [
    "## Check the number and percentage of missing value in each feature (column)."
   ]
  },
  {
   "cell_type": "code",
   "execution_count": 4,
   "metadata": {},
   "outputs": [
    {
     "data": {
      "text/html": [
       "<div>\n",
       "<style scoped>\n",
       "    .dataframe tbody tr th:only-of-type {\n",
       "        vertical-align: middle;\n",
       "    }\n",
       "\n",
       "    .dataframe tbody tr th {\n",
       "        vertical-align: top;\n",
       "    }\n",
       "\n",
       "    .dataframe thead th {\n",
       "        text-align: right;\n",
       "    }\n",
       "</style>\n",
       "<table border=\"1\" class=\"dataframe\">\n",
       "  <thead>\n",
       "    <tr style=\"text-align: right;\">\n",
       "      <th></th>\n",
       "      <th>Missing Values (MV)</th>\n",
       "      <th>% of MV (MV/n)</th>\n",
       "      <th>Inconsistency Values (IV)</th>\n",
       "      <th>% of IV (IV/n)</th>\n",
       "    </tr>\n",
       "  </thead>\n",
       "  <tbody>\n",
       "    <tr>\n",
       "      <th>pclass</th>\n",
       "      <td>0</td>\n",
       "      <td>0.00%</td>\n",
       "      <td>0</td>\n",
       "      <td>0</td>\n",
       "    </tr>\n",
       "    <tr>\n",
       "      <th>sex</th>\n",
       "      <td>0</td>\n",
       "      <td>0.00%</td>\n",
       "      <td>0</td>\n",
       "      <td>0</td>\n",
       "    </tr>\n",
       "    <tr>\n",
       "      <th>age</th>\n",
       "      <td>188</td>\n",
       "      <td>20.52%</td>\n",
       "      <td>0</td>\n",
       "      <td>0</td>\n",
       "    </tr>\n",
       "    <tr>\n",
       "      <th>sibsp</th>\n",
       "      <td>0</td>\n",
       "      <td>0.00%</td>\n",
       "      <td>0</td>\n",
       "      <td>0</td>\n",
       "    </tr>\n",
       "    <tr>\n",
       "      <th>parch</th>\n",
       "      <td>0</td>\n",
       "      <td>0.00%</td>\n",
       "      <td>0</td>\n",
       "      <td>0</td>\n",
       "    </tr>\n",
       "    <tr>\n",
       "      <th>fare</th>\n",
       "      <td>9</td>\n",
       "      <td>0.98%</td>\n",
       "      <td>0</td>\n",
       "      <td>0</td>\n",
       "    </tr>\n",
       "    <tr>\n",
       "      <th>embarked</th>\n",
       "      <td>0</td>\n",
       "      <td>0.00%</td>\n",
       "      <td>0</td>\n",
       "      <td>0</td>\n",
       "    </tr>\n",
       "    <tr>\n",
       "      <th>survived</th>\n",
       "      <td>0</td>\n",
       "      <td>0.00%</td>\n",
       "      <td>0</td>\n",
       "      <td>0</td>\n",
       "    </tr>\n",
       "  </tbody>\n",
       "</table>\n",
       "</div>"
      ],
      "text/plain": [
       "          Missing Values (MV) % of MV (MV/n)  Inconsistency Values (IV)  \\\n",
       "pclass                      0          0.00%                          0   \n",
       "sex                         0          0.00%                          0   \n",
       "age                       188         20.52%                          0   \n",
       "sibsp                       0          0.00%                          0   \n",
       "parch                       0          0.00%                          0   \n",
       "fare                        9          0.98%                          0   \n",
       "embarked                    0          0.00%                          0   \n",
       "survived                    0          0.00%                          0   \n",
       "\n",
       "          % of IV (IV/n)  \n",
       "pclass                 0  \n",
       "sex                    0  \n",
       "age                    0  \n",
       "sibsp                  0  \n",
       "parch                  0  \n",
       "fare                   0  \n",
       "embarked               0  \n",
       "survived               0  "
      ]
     },
     "execution_count": 4,
     "metadata": {},
     "output_type": "execute_result"
    }
   ],
   "source": [
    "for i in range(1, len(features)):\n",
    "    n_of_missing_value = sum(df[features[i]].isna())\n",
    "    df_m_i.loc[features[i], \"Missing Values (MV)\"] = n_of_missing_value\n",
    "    df_m_i.loc[features[i], \"% of MV (MV/n)\"] = \"{:.2%}\".format(n_of_missing_value / df.shape[0])\n",
    "    \n",
    "df_m_i"
   ]
  },
  {
   "cell_type": "markdown",
   "metadata": {},
   "source": [
    "## Fill the missing values with mean for numerical data and mode for categorical data."
   ]
  },
  {
   "cell_type": "code",
   "execution_count": 5,
   "metadata": {},
   "outputs": [
    {
     "data": {
      "text/plain": [
       "ID          0\n",
       "pclass      0\n",
       "sex         0\n",
       "age         0\n",
       "sibsp       0\n",
       "parch       0\n",
       "fare        0\n",
       "embarked    0\n",
       "survived    0\n",
       "dtype: int64"
      ]
     },
     "execution_count": 5,
     "metadata": {},
     "output_type": "execute_result"
    }
   ],
   "source": [
    "# Fill the missing values in \"age\" by its mean since it is a numerical feature\n",
    "df[\"age\"].fillna(value = np.round(df[~df[\"age\"].isna()][\"age\"].mean()), inplace = True)\n",
    "# Fill the missing values in \"fare\" by its mean since it is a numerical feature\n",
    "df[\"fare\"].fillna(value = np.round(df[~df[\"fare\"].isna()][\"fare\"].mean(), 1), inplace = True)\n",
    "df.isna().sum() # Check if there is missing value again."
   ]
  },
  {
   "cell_type": "markdown",
   "metadata": {},
   "source": [
    "## Examine the inconsistent value for each feature by using value_counts()"
   ]
  },
  {
   "cell_type": "code",
   "execution_count": 6,
   "metadata": {},
   "outputs": [
    {
     "name": "stdout",
     "output_type": "stream",
     "text": [
      "3    495\n",
      "1    216\n",
      "2    205\n",
      "Name: pclass, dtype: int64\n",
      "\n",
      "male      581\n",
      "female    331\n",
      "Male        2\n",
      "Female      2\n",
      "Name: sex, dtype: int64\n",
      "\n",
      "29.0    209\n",
      "24.0     34\n",
      "22.0     31\n",
      "21.0     30\n",
      "30.0     28\n",
      "       ... \n",
      "55.5      1\n",
      "24.5      1\n",
      "36.5      1\n",
      "74.0      1\n",
      "60.5      1\n",
      "Name: age, Length: 94, dtype: int64\n",
      "\n",
      "0    617\n",
      "1    229\n",
      "2     26\n",
      "3     16\n",
      "4     15\n",
      "8      8\n",
      "5      5\n",
      "Name: sibsp, dtype: int64\n",
      "\n",
      "0    705\n",
      "1    113\n",
      "2     81\n",
      "3      7\n",
      "5      5\n",
      "9      2\n",
      "4      2\n",
      "6      1\n",
      "Name: parch, dtype: int64\n",
      "\n",
      "7.9     77\n",
      "7.8     73\n",
      "13.0    50\n",
      "8.1     41\n",
      "26.0    36\n",
      "        ..\n",
      "79.7     1\n",
      "25.6     1\n",
      "77.3     1\n",
      "93.5     1\n",
      "4.0      1\n",
      "Name: fare, Length: 198, dtype: int64\n",
      "\n",
      "S             649\n",
      "C             175\n",
      "Q              89\n",
      "Queenstown      3\n",
      "Name: embarked, dtype: int64\n",
      "\n",
      "0    563\n",
      "1    353\n",
      "Name: survived, dtype: int64\n",
      "\n"
     ]
    }
   ],
   "source": [
    "for i in range(1, len(features)):\n",
    "    print(df[features[i]].value_counts())\n",
    "    print()"
   ]
  },
  {
   "cell_type": "markdown",
   "metadata": {},
   "source": [
    "### It can be observed that there are inconsistent values in \"sex\" and \"embarked\" columns. Fix the inconsistent values to make the data consistent."
   ]
  },
  {
   "cell_type": "code",
   "execution_count": 7,
   "metadata": {},
   "outputs": [],
   "source": [
    "df_m_i.loc[\"sex\", \"Inconsistency Values (IV)\"] = sum((df[\"sex\"] == \"Male\") | (df[\"sex\"] == \"Female\"))\n",
    "df_m_i.loc[\"sex\", \"% of IV (IV/n)\"] = \"{:.2%}\".format(sum((df[\"sex\"] == \"Male\") | (df[\"sex\"] == \"Female\")) / df.shape[0])\n",
    "df.loc[df[\"sex\"] == \"Male\", \"sex\"] = \"male\"\n",
    "df.loc[df[\"sex\"] == \"Female\", \"sex\"] = \"female\""
   ]
  },
  {
   "cell_type": "code",
   "execution_count": 8,
   "metadata": {},
   "outputs": [],
   "source": [
    "df_m_i.loc[\"embarked\", \"Inconsistency Values (IV)\"] = sum(df[\"embarked\"] == \"Queenstown\")\n",
    "df_m_i.loc[\"embarked\", \"% of IV (IV/n)\"] = \"{:.2%}\".format(sum(df[\"embarked\"] == \"Queenstown\") / df.shape[0])\n",
    "df.loc[df[\"embarked\"] == \"Queenstown\", \"embarked\"] = \"Q\""
   ]
  },
  {
   "cell_type": "markdown",
   "metadata": {},
   "source": [
    "### Examine the data again"
   ]
  },
  {
   "cell_type": "code",
   "execution_count": 9,
   "metadata": {},
   "outputs": [
    {
     "name": "stdout",
     "output_type": "stream",
     "text": [
      "3    495\n",
      "1    216\n",
      "2    205\n",
      "Name: pclass, dtype: int64\n",
      "\n",
      "male      583\n",
      "female    333\n",
      "Name: sex, dtype: int64\n",
      "\n",
      "29.0    209\n",
      "24.0     34\n",
      "22.0     31\n",
      "21.0     30\n",
      "30.0     28\n",
      "       ... \n",
      "55.5      1\n",
      "24.5      1\n",
      "36.5      1\n",
      "74.0      1\n",
      "60.5      1\n",
      "Name: age, Length: 94, dtype: int64\n",
      "\n",
      "0    617\n",
      "1    229\n",
      "2     26\n",
      "3     16\n",
      "4     15\n",
      "8      8\n",
      "5      5\n",
      "Name: sibsp, dtype: int64\n",
      "\n",
      "0    705\n",
      "1    113\n",
      "2     81\n",
      "3      7\n",
      "5      5\n",
      "9      2\n",
      "4      2\n",
      "6      1\n",
      "Name: parch, dtype: int64\n",
      "\n",
      "7.9     77\n",
      "7.8     73\n",
      "13.0    50\n",
      "8.1     41\n",
      "26.0    36\n",
      "        ..\n",
      "79.7     1\n",
      "25.6     1\n",
      "77.3     1\n",
      "93.5     1\n",
      "4.0      1\n",
      "Name: fare, Length: 198, dtype: int64\n",
      "\n",
      "S    649\n",
      "C    175\n",
      "Q     92\n",
      "Name: embarked, dtype: int64\n",
      "\n",
      "0    563\n",
      "1    353\n",
      "Name: survived, dtype: int64\n",
      "\n"
     ]
    }
   ],
   "source": [
    "for i in range(1, len(features)):\n",
    "    print(df[features[i]].value_counts())\n",
    "    print()"
   ]
  },
  {
   "cell_type": "markdown",
   "metadata": {},
   "source": [
    "### Print out the statistical data for missing and inconsistency values."
   ]
  },
  {
   "cell_type": "code",
   "execution_count": 10,
   "metadata": {},
   "outputs": [
    {
     "data": {
      "text/html": [
       "<div>\n",
       "<style scoped>\n",
       "    .dataframe tbody tr th:only-of-type {\n",
       "        vertical-align: middle;\n",
       "    }\n",
       "\n",
       "    .dataframe tbody tr th {\n",
       "        vertical-align: top;\n",
       "    }\n",
       "\n",
       "    .dataframe thead th {\n",
       "        text-align: right;\n",
       "    }\n",
       "</style>\n",
       "<table border=\"1\" class=\"dataframe\">\n",
       "  <thead>\n",
       "    <tr style=\"text-align: right;\">\n",
       "      <th></th>\n",
       "      <th>Missing Values (MV)</th>\n",
       "      <th>% of MV (MV/n)</th>\n",
       "      <th>Inconsistency Values (IV)</th>\n",
       "      <th>% of IV (IV/n)</th>\n",
       "    </tr>\n",
       "  </thead>\n",
       "  <tbody>\n",
       "    <tr>\n",
       "      <th>pclass</th>\n",
       "      <td>0</td>\n",
       "      <td>0.00%</td>\n",
       "      <td>0</td>\n",
       "      <td>0</td>\n",
       "    </tr>\n",
       "    <tr>\n",
       "      <th>sex</th>\n",
       "      <td>0</td>\n",
       "      <td>0.00%</td>\n",
       "      <td>4</td>\n",
       "      <td>0.44%</td>\n",
       "    </tr>\n",
       "    <tr>\n",
       "      <th>age</th>\n",
       "      <td>188</td>\n",
       "      <td>20.52%</td>\n",
       "      <td>0</td>\n",
       "      <td>0</td>\n",
       "    </tr>\n",
       "    <tr>\n",
       "      <th>sibsp</th>\n",
       "      <td>0</td>\n",
       "      <td>0.00%</td>\n",
       "      <td>0</td>\n",
       "      <td>0</td>\n",
       "    </tr>\n",
       "    <tr>\n",
       "      <th>parch</th>\n",
       "      <td>0</td>\n",
       "      <td>0.00%</td>\n",
       "      <td>0</td>\n",
       "      <td>0</td>\n",
       "    </tr>\n",
       "    <tr>\n",
       "      <th>fare</th>\n",
       "      <td>9</td>\n",
       "      <td>0.98%</td>\n",
       "      <td>0</td>\n",
       "      <td>0</td>\n",
       "    </tr>\n",
       "    <tr>\n",
       "      <th>embarked</th>\n",
       "      <td>0</td>\n",
       "      <td>0.00%</td>\n",
       "      <td>3</td>\n",
       "      <td>0.33%</td>\n",
       "    </tr>\n",
       "    <tr>\n",
       "      <th>survived</th>\n",
       "      <td>0</td>\n",
       "      <td>0.00%</td>\n",
       "      <td>0</td>\n",
       "      <td>0</td>\n",
       "    </tr>\n",
       "  </tbody>\n",
       "</table>\n",
       "</div>"
      ],
      "text/plain": [
       "          Missing Values (MV) % of MV (MV/n)  Inconsistency Values (IV)  \\\n",
       "pclass                      0          0.00%                          0   \n",
       "sex                         0          0.00%                          4   \n",
       "age                       188         20.52%                          0   \n",
       "sibsp                       0          0.00%                          0   \n",
       "parch                       0          0.00%                          0   \n",
       "fare                        9          0.98%                          0   \n",
       "embarked                    0          0.00%                          3   \n",
       "survived                    0          0.00%                          0   \n",
       "\n",
       "         % of IV (IV/n)  \n",
       "pclass                0  \n",
       "sex               0.44%  \n",
       "age                   0  \n",
       "sibsp                 0  \n",
       "parch                 0  \n",
       "fare                  0  \n",
       "embarked          0.33%  \n",
       "survived              0  "
      ]
     },
     "execution_count": 10,
     "metadata": {},
     "output_type": "execute_result"
    }
   ],
   "source": [
    "df_m_i"
   ]
  },
  {
   "cell_type": "markdown",
   "metadata": {},
   "source": [
    "### Store the cleaned data to a .csv file."
   ]
  },
  {
   "cell_type": "code",
   "execution_count": 11,
   "metadata": {},
   "outputs": [],
   "source": [
    "df.to_csv(\"cleaned_data.csv\", index = False)"
   ]
  }
 ],
 "metadata": {
  "kernelspec": {
   "display_name": "Python 3",
   "language": "python",
   "name": "python3"
  },
  "language_info": {
   "codemirror_mode": {
    "name": "ipython",
    "version": 3
   },
   "file_extension": ".py",
   "mimetype": "text/x-python",
   "name": "python",
   "nbconvert_exporter": "python",
   "pygments_lexer": "ipython3",
   "version": "3.8.5"
  }
 },
 "nbformat": 4,
 "nbformat_minor": 4
}
