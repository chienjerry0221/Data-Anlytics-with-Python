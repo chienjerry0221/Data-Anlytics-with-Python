{
 "cells": [
  {
   "attachments": {},
   "cell_type": "markdown",
   "metadata": {},
   "source": [
    "A text file (WorldSeriesWinners.txt) on the World Series winning teams is available in the folder. This file contains a chronological list of the World Series winning teams from 1903 through 2009. The first line in the file is the name of the team that won in 1903, and the last line is the name of the team that won in 2009. Note the World Series was not played in 1904 and 1994.\n",
    "\n",
    "Write a program to open the file WorldSeriesWinners.txt, read it line by line and store the team names in a dictionary. \n",
    "\n",
    "Specifically, create a dictionary in which keys are the team names (e.g., Chicago White Sox’) and values are a list of the wining years (e.g., [1906, 1917, 2005]). The year information is not available in the text file but you should be able to create it based on the year information given above. Don’t hardcode the values, but compute them “on the fly”. "
   ]
  },
  {
   "cell_type": "code",
   "execution_count": 1,
   "metadata": {},
   "outputs": [
    {
     "name": "stdout",
     "output_type": "stream",
     "text": [
      "---------------------------------------------------\n",
      "Teams:                         Win Years          \n",
      "---------------------------------------------------\n",
      "Anaheim Angels:                [2002]\n",
      "Arizona Diamondbacks:          [2001]\n",
      "Atlanta Braves:                [1995]\n",
      "Baltimore Orioles:             [1966, 1970, 1983]\n",
      "Boston Americans:              [1903]\n",
      "Boston Braves:                 [1914]\n",
      "Boston Red Sox:                [1912, 1915, 1916, 1918, 2004, 2007]\n",
      "Brooklyn Dodgers:              [1955]\n",
      "Chicago Cubs:                  [1907, 1908]\n",
      "Chicago White Sox:             [1906, 1917, 2005]\n",
      "Cincinnati Reds:               [1919, 1940, 1975, 1976, 1990]\n",
      "Cleveland Indians:             [1920, 1948]\n",
      "Detroit Tigers:                [1935, 1945, 1968, 1984]\n",
      "Florida Marlins:               [1997, 2003]\n",
      "Kansas City Royals:            [1985]\n",
      "Los Angeles Dodgers:           [1959, 1963, 1965, 1981, 1988]\n",
      "Milwaukee Braves:              [1957]\n",
      "Minnesota Twins:               [1987, 1991]\n",
      "New York Giants:               [1905, 1921, 1922, 1933, 1954]\n",
      "New York Mets:                 [1969, 1986]\n",
      "New York Yankees:              [1923, 1927, 1928, 1932, 1936, 1937, 1938, 1939, 1941, 1943, 1947, 1949, 1950, 1951, 1952, 1953, 1956, 1958, 1961, 1962, 1977, 1978, 1996, 1998, 1999, 2000, 2009]\n",
      "Oakland Athletics:             [1972, 1973, 1974, 1989]\n",
      "Philadelphia Athletics:        [1910, 1911, 1913, 1929, 1930]\n",
      "Philadelphia Phillies:         [1980, 2008]\n",
      "Pittsburgh Pirates:            [1909, 1925, 1960, 1971, 1979]\n",
      "St. Louis Cardinals:           [1926, 1931, 1934, 1942, 1944, 1946, 1964, 1967, 1982, 2006]\n",
      "Toronto Blue Jays:             [1992, 1993]\n",
      "Washington Senators:           [1924]\n",
      "\n"
     ]
    }
   ],
   "source": [
    "# Create a list of the year that World Series was held.\n",
    "years = list(range(1903, 2010))\n",
    "years.remove(1904)\n",
    "years.remove(1994)\n",
    "\n",
    "# Open the file and read each line and store them in a list.\n",
    "fhand = open(\"WorldSeriesWinners.txt\")\n",
    "teams = []\n",
    "for line in fhand:\n",
    "    teams.append(line.rstrip())\n",
    "fhand.close()\n",
    "\n",
    "# Count the years that a team won the World Series and store in a dictionary. \n",
    "WS_dict = dict()\n",
    "for i, team in enumerate(teams):\n",
    "    if team not in WS_dict.keys():\n",
    "        WS_dict[team] = [years[i]]\n",
    "    else:\n",
    "        WS_dict[team].append(years[i])\n",
    "        \n",
    "# Print out a table with each row containing the team name and the year that team won the World Series.\n",
    "print(\"---------------------------------------------------\")\n",
    "print(\"Teams:                         Win Years          \")\n",
    "print(\"---------------------------------------------------\")\n",
    "for team in sorted(WS_dict.keys()):\n",
    "    print(\"{:<30}\".format(team + \":\"), WS_dict[team])\n",
    "print(\"\")"
   ]
  },
  {
   "attachments": {},
   "cell_type": "markdown",
   "metadata": {},
   "source": [
    "Create another dictionary in which keys are the team names (e.g., Chicago White Sox’) and values are the occurrence of win (e.g., 3 for Chicago White Sox’). Display the wins per team."
   ]
  },
  {
   "cell_type": "code",
   "execution_count": 2,
   "metadata": {},
   "outputs": [
    {
     "name": "stdout",
     "output_type": "stream",
     "text": [
      "---------------------------------------------------\n",
      "Teams:                         Total Wins          \n",
      "---------------------------------------------------\n",
      "New York Yankees:              27\n",
      "St. Louis Cardinals:           10\n",
      "Boston Red Sox:                6\n",
      "Pittsburgh Pirates:            5\n",
      "Philadelphia Athletics:        5\n",
      "New York Giants:               5\n",
      "Los Angeles Dodgers:           5\n",
      "Cincinnati Reds:               5\n",
      "Oakland Athletics:             4\n",
      "Detroit Tigers:                4\n",
      "Chicago White Sox:             3\n",
      "Baltimore Orioles:             3\n",
      "Toronto Blue Jays:             2\n",
      "Philadelphia Phillies:         2\n",
      "New York Mets:                 2\n",
      "Minnesota Twins:               2\n",
      "Florida Marlins:               2\n",
      "Cleveland Indians:             2\n",
      "Chicago Cubs:                  2\n",
      "Washington Senators:           1\n",
      "Milwaukee Braves:              1\n",
      "Kansas City Royals:            1\n",
      "Brooklyn Dodgers:              1\n",
      "Boston Braves:                 1\n",
      "Boston Americans:              1\n",
      "Atlanta Braves:                1\n",
      "Arizona Diamondbacks:          1\n",
      "Anaheim Angels:                1\n",
      "\n"
     ]
    }
   ],
   "source": [
    "# Create a new dictionary to store team name as key and the number of that team won the World Series as value. \n",
    "WS_winning_count_dict = dict()\n",
    "for key, val in WS_dict.items():\n",
    "    WS_winning_count_dict[key] = len(val) \n",
    "\n",
    "# Create a list to store the sorted dictionary of winning count. Each element of the list is a tuple including the \n",
    "# number of winnings as first element and team names as second element.\n",
    "sorted_WS_winning_count = list()\n",
    "for key, val in WS_winning_count_dict.items():\n",
    "    sorted_WS_winning_count.append((val, key))\n",
    "\n",
    "sorted_WS_winning_count.sort(reverse = True)\n",
    "\n",
    "# Print out a table with each row containing the team name and the number of World Series that team won.\n",
    "print(\"---------------------------------------------------\")\n",
    "print(\"Teams:                         Total Wins          \")\n",
    "print(\"---------------------------------------------------\")\n",
    "for team in sorted_WS_winning_count:\n",
    "    print(\"{:<30}\".format(team[1] + \":\"), team[0])\n",
    "print(\"\")"
   ]
  },
  {
   "attachments": {},
   "cell_type": "markdown",
   "metadata": {},
   "source": [
    "Sort the data by the number of wins and create a bar graph of the data. Each star represents one win."
   ]
  },
  {
   "cell_type": "code",
   "execution_count": 3,
   "metadata": {},
   "outputs": [
    {
     "name": "stdout",
     "output_type": "stream",
     "text": [
      "---------------------------------------------------\n",
      "Teams:                         Total Wins Bar Graph\n",
      "---------------------------------------------------\n",
      "New York Yankees (27):         ***************************\n",
      "St. Louis Cardinals (10):      **********\n",
      "Boston Red Sox (6):            ******\n",
      "Pittsburgh Pirates (5):        *****\n",
      "Philadelphia Athletics (5):    *****\n",
      "New York Giants (5):           *****\n",
      "Los Angeles Dodgers (5):       *****\n",
      "Cincinnati Reds (5):           *****\n",
      "Oakland Athletics (4):         ****\n",
      "Detroit Tigers (4):            ****\n",
      "Chicago White Sox (3):         ***\n",
      "Baltimore Orioles (3):         ***\n",
      "Toronto Blue Jays (2):         **\n",
      "Philadelphia Phillies (2):     **\n",
      "New York Mets (2):             **\n",
      "Minnesota Twins (2):           **\n",
      "Florida Marlins (2):           **\n",
      "Cleveland Indians (2):         **\n",
      "Chicago Cubs (2):              **\n",
      "Washington Senators (1):       *\n",
      "Milwaukee Braves (1):          *\n",
      "Kansas City Royals (1):        *\n",
      "Brooklyn Dodgers (1):          *\n",
      "Boston Braves (1):             *\n",
      "Boston Americans (1):          *\n",
      "Atlanta Braves (1):            *\n",
      "Arizona Diamondbacks (1):      *\n",
      "Anaheim Angels (1):            *\n"
     ]
    }
   ],
   "source": [
    "# Convert the last table into a Bar Graph.\n",
    "print(\"---------------------------------------------------\")\n",
    "print(\"Teams:                         Total Wins Bar Graph\")\n",
    "print(\"---------------------------------------------------\")\n",
    "for team in sorted_WS_winning_count:\n",
    "    print(\"{:<30}\".format(team[1] + \" (\" + str(team[0]) + \"):\"), \"*\" * team[0])"
   ]
  }
 ],
 "metadata": {
  "kernelspec": {
   "display_name": "Python 3",
   "language": "python",
   "name": "python3"
  },
  "language_info": {
   "codemirror_mode": {
    "name": "ipython",
    "version": 3
   },
   "file_extension": ".py",
   "mimetype": "text/x-python",
   "name": "python",
   "nbconvert_exporter": "python",
   "pygments_lexer": "ipython3",
   "version": "3.8.5"
  }
 },
 "nbformat": 4,
 "nbformat_minor": 4
}
