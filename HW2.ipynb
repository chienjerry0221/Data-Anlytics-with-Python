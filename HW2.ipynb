{
 "cells": [
  {
   "cell_type": "markdown",
   "metadata": {},
   "source": [
    "## Question 1"
   ]
  },
  {
   "attachments": {},
   "cell_type": "markdown",
   "metadata": {},
   "source": [
    "Write a program to prompt for a score between 0.0 and 100.0 and print a grade:\n",
    " \n",
    " \n",
    "The program should have at least 2 functions: \n",
    "1.\tvalidate_input(): It validates the user’s inputs. Specifically, if the score is out of range, it prints an error message. If the user enters non-digits, it prints an error message (e.g., Please enter numbers only) [10 points]\n",
    "2.\tcalculate_grade(): It takes the validated score, computes the grade as shown in the above score-to-grade mapping table, and return the course grade"
   ]
  },
  {
   "cell_type": "code",
   "execution_count": 1,
   "metadata": {},
   "outputs": [
    {
     "name": "stdout",
     "output_type": "stream",
     "text": [
      "Enter a score between 0.0 and 100: 100\n",
      "A Grade\n"
     ]
    }
   ],
   "source": [
    "# Function validate_input is to validate whether the input is in the range and numerical and return the validated \n",
    "# input as a floating number.\n",
    "def validate_input(score):\n",
    "    try: \n",
    "        if float(score) > 100 or float(score) < 0:\n",
    "            print(\"Score should be between 0 to 100.\")\n",
    "            return None\n",
    "    except:\n",
    "        print(\"Please enter numbers only.\")\n",
    "        return None\n",
    "    return float(score)\n",
    "\n",
    "# Function calculate_grade takes the validated score as argumentis and categorize the score into different grades.\n",
    "def calculate_grade(validated_score):\n",
    "    if validated_score == None:\n",
    "        return None\n",
    "    elif validated_score >= 90:\n",
    "        print(\"A Grade\")\n",
    "    elif validated_score >= 80:\n",
    "        print(\"B Grade\")\n",
    "    elif validated_score >= 70:\n",
    "        print(\"C Grade\")\n",
    "    elif validated_score >= 60:\n",
    "        print(\"D Grade\")\n",
    "    else:\n",
    "        print(\"F Grade\")\n",
    "        \n",
    "score = input(\"Enter a score between 0.0 and 100: \")\n",
    "validated_score = validate_input(score)\n",
    "calculate_grade(validated_score)"
   ]
  },
  {
   "cell_type": "markdown",
   "metadata": {},
   "source": [
    "## Question 2"
   ]
  },
  {
   "attachments": {},
   "cell_type": "markdown",
   "metadata": {},
   "source": [
    "In physics, an object that is in motion is said to have kinetic energy. The following formula can be used to determine a moving object’s kinetic energy:\n",
    "\n",
    "KE = 0.5*m*v^2\n",
    "\n",
    "The variables in the formula are as follows: KE is the kinetic energy, m is the object’s mass in kilograms, and v is the object’s velocity in meters per second.\n",
    "\n",
    "Write a function named kinetic_energy() that accepts an object’s mass (in kilograms) and velocity (in meters per second) as arguments. The function should return the amount of kinetic energy that the object has. Write a program that asks the user to enter values for mass and velocity, then calls the kinetic_energy function to get the object’s kinetic energy and print the value.\n",
    "\n",
    "Input validation: Don’t allow the user to enter negative numbers."
   ]
  },
  {
   "cell_type": "code",
   "execution_count": 2,
   "metadata": {},
   "outputs": [
    {
     "name": "stdout",
     "output_type": "stream",
     "text": [
      "Please enter the mass in kilograms: 1\n",
      "Please enter the velocity in meters per second: 1\n",
      "The kinetic energy is 0.50 J.\n"
     ]
    }
   ],
   "source": [
    "# Function kinetic_energy takes mass and velocity as arguments and validate whether they are bigger than 0 and \n",
    "# numerical. If so, calculate the kinetic energy and return it.\n",
    "def kinetic_energy(mass, velocity):\n",
    "    try: \n",
    "        if float(mass) < 0 or float(velocity) < 0:\n",
    "            print(\"Mass and velocity should be bigger than or equal to 0.\")\n",
    "            return None\n",
    "    except:\n",
    "        print(\"Please enter numbers only.\")\n",
    "        return None\n",
    "    \n",
    "    ke = (1/2) * float(mass) * float(velocity)**2\n",
    "    return ke\n",
    "\n",
    "mass = input(\"Please enter the mass in kilograms: \")\n",
    "velocity = input(\"Please enter the velocity in meters per second: \")\n",
    "ke = kinetic_energy(mass, velocity)\n",
    "if ke == None:\n",
    "    print(\"Your input is invalid and cannot be computed.\")\n",
    "else:\n",
    "    print(\"The kinetic energy is\", format(ke, \",.2f\"), \"J.\")"
   ]
  },
  {
   "cell_type": "markdown",
   "metadata": {},
   "source": [
    "## Question 3"
   ]
  },
  {
   "attachments": {},
   "cell_type": "markdown",
   "metadata": {},
   "source": [
    "Write a program that calculates and displays a person’s body mass index (BMI). The BMI is often used to determine whether a person with a sedentary lifestyle is overweight or underweight for his or her height. A person’s BMI is calculated with the following formula:\n",
    "\n",
    "BMI = weight × 703 / height2\n",
    "\n",
    "Where, weight is measured in pounds and height is measured in inches. The program should display a message indicating whether the person has optimal weight, is underweight, or is overweight. A sedentary person’s weight is considered to be optimal if his or her BMI is between 18.5 and 25. If the BMI is less than 18.5, the person is considered to be underweight. If the BMI value is greater than 25, the person is considered to be overweight. \n",
    "The program should have at least 3 functions as described below: \n",
    "1.\tget_input(): This function will take user inputs (height and weight) and validate them. If inputs are negative numbers, the program should throw an error message. If the inputs are strings, the program should throw an error message. Otherwise, it should return the number.\n",
    "2.\tcalculate_BMI(): This function should take the user’s inputs as arguments, calculate BMI, and returns BMI.\n",
    "3.\tcalculate_weight_category(): This function should take the BMI value and compute one of the three weight categories (underweight, optimal-weight or overweight)."
   ]
  },
  {
   "cell_type": "code",
   "execution_count": 3,
   "metadata": {},
   "outputs": [
    {
     "name": "stdout",
     "output_type": "stream",
     "text": [
      "Please input your weight in pounds (numbers only): 132\n",
      "Please input your height in inches (numbers only): 68\n",
      "Your BMI is 20.07 which is 'optimal'.\n"
     ]
    }
   ],
   "source": [
    "# Function get_input takes two inputs, weight and height, and check whether these two inputs are numerical and bigger \n",
    "# than 0. Return the floating number of both weight and height if they are validated.\n",
    "def get_input():\n",
    "    weight = input(\"Please input your weight in pounds (numbers only): \")\n",
    "    height = input(\"Please input your height in inches (numbers only): \")\n",
    "    try: \n",
    "        if float(weight) <= 0 or float(height) <= 0:\n",
    "            print(\"Weight and height should be bigger than 0.\")\n",
    "            return None, None\n",
    "    except:\n",
    "        print(\"Please enter numbers only.\")\n",
    "        return None, None\n",
    "    return float(weight), float(height)\n",
    "\n",
    "# Function calculate_BMI takes the two validated weight and height from get_input function and calculate the BMI and \n",
    "# return it.\n",
    "def calculate_BMI(weight, height):\n",
    "    if weight == None:\n",
    "        return None\n",
    "    else:\n",
    "        BMI = weight * 703 / height**2\n",
    "        return BMI\n",
    "\n",
    "# Function calculate_weight_category takes the BMI returned by calculate_BMI function and categorize the number.\n",
    "def calculate_weight_category(BMI):\n",
    "    if BMI == None:\n",
    "        return None\n",
    "    else:\n",
    "        if BMI > 25:\n",
    "            print(\"Your BMI is\", format(BMI, \".2f\"), \"which is 'overweight'.\")\n",
    "        elif BMI >= 18.5 and BMI <= 25:\n",
    "            print(\"Your BMI is\", format(BMI, \".2f\"), \"which is 'optimal'.\")\n",
    "        else:\n",
    "            print(\"Your BMI is\", format(BMI, \".2f\"), \"which is 'underweight'.\")\n",
    "\n",
    "weight, height = get_input()\n",
    "BMI = calculate_BMI(weight, height)\n",
    "calculate_weight_category(BMI)"
   ]
  }
 ],
 "metadata": {
  "kernelspec": {
   "display_name": "Python 3",
   "language": "python",
   "name": "python3"
  },
  "language_info": {
   "codemirror_mode": {
    "name": "ipython",
    "version": 3
   },
   "file_extension": ".py",
   "mimetype": "text/x-python",
   "name": "python",
   "nbconvert_exporter": "python",
   "pygments_lexer": "ipython3",
   "version": "3.8.5"
  }
 },
 "nbformat": 4,
 "nbformat_minor": 4
}
