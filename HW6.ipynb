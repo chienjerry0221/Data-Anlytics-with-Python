{
 "cells": [
  {
   "attachments": {},
   "cell_type": "markdown",
   "metadata": {},
   "source": [
    "This is a binary classification problem, where the goal is to classify each passenger of the Titanic ship into survived (1) or not survived (0) groups. \n",
    "\n",
    "The training and test datasets are available. Your task is to develop OneR models (from the training set) to predict which passengers (in the test set) survived the tragedy.  \n",
    "\n",
    "OneR, short for \"One Rule\", is a simple, yet accurate, classification algorithm that generates one rule for each feature in the data. There are 7 features in the Titanic dataset (item-1 to item-7 in the following list) and one target class (item-8) as shown below:\n",
    "1.\tpclass: Ticket class (1 = 1st class, 2 = 2nd class, 3 = 3rd class)\n",
    "2.\tgender: Gender of the passenger (Male, Female)\t\n",
    "3.\tage: Age in years\t\n",
    "4.\tsibsp:\t# of siblings or spouses aboard the Titanic\t\n",
    "5.\tparch: # of parents or children aboard the Titanic \n",
    "   a.\tParent = mother, father\n",
    "   b.\tChild = daughter, son, stepdaughter, stepson\n",
    "   c.\tSome children travelled only with a nanny, therefore parch=0 for them.\t\n",
    "6.\tfare: Passenger fare\t\n",
    "7.\tembarked: Port of Embarkation (C = Cherbourg, Q = Queenstown, S = Southampton)\n",
    "8.\tsurvived: Survival (0 = Not survived, 1 = survived). This is a binary class. "
   ]
  },
  {
   "cell_type": "markdown",
   "metadata": {},
   "source": [
    "OneR essentially is a majority voting. For instance, if the majority of the female passengers (gender = female) in the training set survived the tragedy, the OneR classifies all the females in the test set as survived (1). If the majority of the male passengers (gender = male) in the training set did not survive the tragedy, the OneR classifies all the males in the test set as not survived (0). Therefore, OneR for this feature could be the following: \n",
    "\n",
    "OneR(gender) = if the passenger was female, she survived.  \n",
    "\n",
    "Similarly, if the majority of the first class passengers (pclass = 1) in the training set survived the tragedy, the OneR classifies all the first class passengers in the test set as survived. Next, its checks the second class passenger (pclass=2). If the majority of the second class passengers (pclass = 2) in the training set survived the tragedy, the OneR classifies all the second class passengers in the test set as survived. \n",
    "\n",
    "Finally, repeat this step for the third class passengers (pclass = 3). Let’s assume that the majority of the third class passenger in the training set did not survived. In this case, OneR for this feature could be the following: \n",
    "\n",
    "OneR(pclass) = if the passenger travelled in the first class or the second class, s/he survived."
   ]
  },
  {
   "cell_type": "markdown",
   "metadata": {},
   "source": [
    "Develop a Python script to\n",
    "1.\tRead-in the training set and test set.\n",
    "2.\tConstruct a machine learning model using OneR for each of the following features: gender, pclass, sibsp, parch, embarked.\n",
    "3.\tFor each feature, predict class label (survived or not survived) for every passenger in the test set.\n",
    "4.\tFor each feature, store the passenger IDs and class labels in the appropriate worksheet (e.g., Gender_Based_Prediction for gender based OneR) of the attached output file (titanic_test_predictions.xlsx).\n",
    "5.\tCompute success rate for the test set. Success rate is the total number of correct predictions divide by the total instances."
   ]
  },
  {
   "cell_type": "code",
   "execution_count": 2,
   "metadata": {},
   "outputs": [],
   "source": [
    "import pandas as pd"
   ]
  },
  {
   "cell_type": "code",
   "execution_count": 3,
   "metadata": {},
   "outputs": [],
   "source": [
    "df_training = pd.read_excel(\"titanic_traning.xlsx\")\n",
    "df_test = pd.read_excel(\"titanic_test.xlsx\")\n",
    "\n",
    "def OneR(df, feature):\n",
    "    # This function will caluate the unique value of each feature and count the survive frequency of each unique \n",
    "    # value. Then, assign the survival condition to that particular unique value of each feature.\n",
    "    import pandas as pd\n",
    "    result = pd.Series(dtype = int)\n",
    "    for i in df[feature].unique():\n",
    "        survive_stat = df[df[feature] == i][\"survived\"].value_counts()\n",
    "        survive = survive_stat.idxmax()\n",
    "        result.loc[i] = survive\n",
    "    return result"
   ]
  },
  {
   "cell_type": "code",
   "execution_count": 5,
   "metadata": {},
   "outputs": [],
   "source": [
    "features = [\"gender\", \"pclass\", \"sibsp\", \"parch\", \"embarked\"]\n",
    "\n",
    "# Built the OneR models for each feature.\n",
    "OneR_gender = OneR(df_training, \"gender\")\n",
    "OneR_pclass = OneR(df_training, \"pclass\")\n",
    "OneR_sibsp = OneR(df_training, \"sibsp\")\n",
    "OneR_parch = OneR(df_training, \"parch\")\n",
    "OneR_embarked = OneR(df_training, \"embarked\")\n",
    "\n",
    "# Predict the test set based on the OneR models built before.\n",
    "pred_gender = df_test[\"gender\"].map(lambda x: OneR_gender.loc[x])\n",
    "pred_pclass = df_test[\"pclass\"].map(lambda x: OneR_pclass.loc[x])\n",
    "pred_sibsp = df_test[\"sibsp\"].map(lambda x: OneR_sibsp.loc[x])\n",
    "pred_parch = df_test[\"parch\"].map(lambda x: OneR_parch.loc[x])\n",
    "# Since there are missing values in embarked, we used foward fill to fill it.\n",
    "df_test[\"embarked\"].fillna(method = \"ffill\", inplace = True)\n",
    "pred_embarked = df_test[\"embarked\"].map(lambda x: OneR_embarked.loc[x])\n",
    "\n",
    "sheet_list = [\"Gender_Based_Prediction\", \"pclass_Based_Prediction\", \n",
    "              \"sibsp_Based_Prediction\", \"parch_Based_Prediction\",\n",
    "              \"embarked_Based_Prediction\", \"Prediction_Success_Rate\"]\n",
    "\n",
    "success_rate_df = pd.DataFrame({\"Feature\": sheet_list[:5]})\n",
    "\n",
    "# Write the prediction into its repsective sheet and calculate the accuracy of the prediction based on each feature.\n",
    "writer = pd.ExcelWriter(\"titanic_test_predictions.xlsx\", mode = \"w\")\n",
    "for i in range(5):\n",
    "    temp_df = pd.read_excel(\"titanic_test_predictions.xlsx\", \n",
    "                            sheet_name = sheet_list[i])\n",
    "    temp_df[\"Prediction\"] = globals()[\"pred_\" + features[i]]\n",
    "    temp_df.to_excel(writer, sheet_name = sheet_list[i], index = False)\n",
    "    success_rate = (temp_df[\"Prediction\"] == temp_df[\"Ground truth\"]).mean()\n",
    "    success_rate_df.loc[i, \"Success Rate\"] = \"{:.2%}\".format(success_rate)\n",
    "success_rate_df.to_excel(writer, sheet_name = sheet_list[-1], index = False)\n",
    "\n",
    "writer.save()"
   ]
  }
 ],
 "metadata": {
  "kernelspec": {
   "display_name": "Python 3",
   "language": "python",
   "name": "python3"
  },
  "language_info": {
   "codemirror_mode": {
    "name": "ipython",
    "version": 3
   },
   "file_extension": ".py",
   "mimetype": "text/x-python",
   "name": "python",
   "nbconvert_exporter": "python",
   "pygments_lexer": "ipython3",
   "version": "3.8.5"
  }
 },
 "nbformat": 4,
 "nbformat_minor": 4
}
