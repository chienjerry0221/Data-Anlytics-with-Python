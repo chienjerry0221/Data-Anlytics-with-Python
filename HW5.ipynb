{
 "cells": [
  {
   "attachments": {},
   "cell_type": "markdown",
   "metadata": {},
   "source": [
    "You are consulted by a health insurance company to analyze its insurance dataset. The goal is produce a set of descriptive statistics.  The dataset is in the txt file format (insurance.txt) and is available under the homework folder. \n",
    "\n",
    "The file includes 1,338 examples of beneficiaries currently enrolled in the insurance plan, with features indicating characteristics of the patient as well as the total medical expenses charged to the plan for the calendar year. The features are:\n",
    "1. age: An integer indicating the age of the primary beneficiary (excluding those above 64 years, since they are generally covered by the government).\n",
    "2. sex: The policy holder's gender, either male or female. \n",
    "3. bmi: The body mass index (BMI), which provides a sense of how over- or under-weight a person is relative to their height. BMI is equal to weight (in kilograms) divided by height (in meters) squared. An ideal BMI is within the range of 18.5 to 24.9.  A person with a BMI value within the range of 25 to 29.9 is considered overweight. A person with a BMI value above 30 is considered obese. \n",
    "4. children: An integer indicating the number of children/ dependents covered by the insurance plan. \n",
    "5. smoker: A yes or no categorical variable that indicates whether the insured regularly smokes tobacco. \n",
    "6. region: The beneficiary's place of residence in the US, divided into four geographic regions: northeast, southeast, southwest, or northwest.\n",
    "7. expense: total medical expenses charged to the plan for the calendar year"
   ]
  },
  {
   "attachments": {},
   "cell_type": "markdown",
   "metadata": {},
   "source": [
    "Using the numpy library analyze the data. In particular, read the data file (numpy.loadtxt()), produce the following analysis and store the results into a text file (numpy.savetxt()):\n",
    "1.\tMean, standard deviation and median of age.\n",
    "2.\tMean, standard deviation and median of BMI.\n",
    "3.\tMean, standard deviation and median of BMI grouped by sex.\n",
    "4.\tMean, standard deviation and median of BMI for smokers and non-smokers.\n",
    "5.\tMean, standard deviation and median of BMI grouped by region.\n",
    "6.\tMean, standard deviation and median of BMI of those who have more than 2 children."
   ]
  },
  {
   "cell_type": "code",
   "execution_count": 1,
   "metadata": {},
   "outputs": [],
   "source": [
    "def calculator(result, name, np_df):\n",
    "    # This function calculates the mean, standard deviation, and median of a particular numpy array and append to an \n",
    "    # existing array such as header or result of other array and return the array.\n",
    "    import numpy as np\n",
    "    df_mean = np.mean(np_df).round(2)\n",
    "    df_std = np.std(np_df).round(2)\n",
    "    df_median = np.median(np_df).round(2)\n",
    "    result = np.append(result, np.array([[name, df_mean, df_std, df_median]]), axis = 0)\n",
    "    return result\n",
    "\n",
    "def mode(result, np_df):\n",
    "    # This function calculates the mode of a particular numpy array and append to an existing array such as header or \n",
    "    # result of other array and return the array.\n",
    "    import numpy as np\n",
    "    u_list = np.unique(np_df)\n",
    "    for i in u_list:\n",
    "        freq = round(np.mean(np_df == i) * 100, 1)\n",
    "        result = np.append(result, np.array([[i, freq]]), axis = 0)\n",
    "    return result"
   ]
  },
  {
   "cell_type": "code",
   "execution_count": 2,
   "metadata": {},
   "outputs": [],
   "source": [
    "import numpy as np\n",
    "# Import the data\n",
    "df = np.loadtxt(\"insurance.txt\", dtype = str)\n",
    "\n",
    "df = df[1:] # Ignore the header\n",
    "BMI = df[:,2].astype(float)\n",
    "\n",
    "result = np.array([[\"Case Study\", \"Mean\", \"Std\", \"Median\"]])\n",
    "result = calculator(result, \"Age\", df[:,0].astype(int))\n",
    "result = calculator(result, \"BMI of All\", df[:,2].astype(float))\n",
    "result = calculator(result, \"BMI of Male\", BMI[df[:,1] == \"male\"])\n",
    "result = calculator(result, \"BMI of Female\", BMI[df[:,1] == \"female\"])\n",
    "result = calculator(result, \"BMI of Smoker\", BMI[df[:,4] == \"yes\"])\n",
    "result = calculator(result, \"BMI of Non-smoker\", BMI[df[:,4] == \"no\"])\n",
    "result = calculator(result, \"BMI of NorthEast\", BMI[df[:,5] == \"northeast\"])\n",
    "result = calculator(result, \"BMI of SouthEast\", BMI[df[:,5] == \"southeast\"])\n",
    "result = calculator(result, \"BMI of SouthWest\", BMI[df[:,5] == \"southwest\"])\n",
    "result = calculator(result, \"BMI of NorthWest\", BMI[df[:,5] == \"northwest\"])\n",
    "result = calculator(result, \"BMI of > 2 Children\", BMI[df[:,3].astype(int) > 2])"
   ]
  },
  {
   "attachments": {},
   "cell_type": "markdown",
   "metadata": {},
   "source": [
    "How do the following factors affect BMI? Justify your comments with supporting descriptive statistics (mean, standard deviation and median). \n",
    "1.\tSmoking habit\n",
    "2.\tRegion\n",
    "3.\tChildren"
   ]
  },
  {
   "cell_type": "code",
   "execution_count": 3,
   "metadata": {},
   "outputs": [
    {
     "name": "stdout",
     "output_type": "stream",
     "text": [
      "1. The smoking habit doesn't have too much impact on the BMI while the entire data set are considered since \n",
      "the mean, standard deviation, and median of BMI are close between smoker and non-smoker.\n",
      "\n",
      "2. Comparing the BMI for 4 regions, it seems like people in the southeast have larger means, standard \n",
      "deviation, and median than other regions. This means that people living in southeast are either fatter or shorter \n",
      "than other regions and also the variation on the BMI is also larger.\n",
      "\n",
      "3. Comparing the BMI for entire data set and those who have more than 2 children, the mean and median is \n",
      "almost same but people have more than 2 children looks like will have smaller variation on the BMI.\n"
     ]
    }
   ],
   "source": [
    "# Discussion about the statistics.\n",
    "print(\"\"\"1. The smoking habit doesn't have too much impact on the BMI while the entire data set are considered since \n",
    "the mean, standard deviation, and median of BMI are close between smoker and non-smoker.\"\"\")\n",
    "print()\n",
    "print(\"\"\"2. Comparing the BMI for 4 regions, it seems like people in the southeast have larger means, standard \n",
    "deviation, and median than other regions. This means that people living in southeast are either fatter or shorter \n",
    "than other regions and also the variation on the BMI is also larger.\"\"\")\n",
    "print()\n",
    "print(\"\"\"3. Comparing the BMI for entire data set and those who have more than 2 children, the mean and median is \n",
    "almost same but people have more than 2 children looks like will have smaller variation on the BMI.\"\"\")"
   ]
  },
  {
   "attachments": {},
   "cell_type": "markdown",
   "metadata": {},
   "source": [
    "What are the primary reasons for the top 20% of the expenses? In particular, sort the data by expense, and compute the mean, and standard deviation of BMI and the mode of smoker and region. How do these values differ from the rest 80% of the population?"
   ]
  },
  {
   "cell_type": "code",
   "execution_count": 4,
   "metadata": {},
   "outputs": [
    {
     "name": "stdout",
     "output_type": "stream",
     "text": [
      "Comparing the BMI mean, standard deviation, and median for top 20% and rest 80%, we can see that people with \n",
      "top 20% of insurance expenses have larger BMI mean, median than the rest 80%. This is reasonable becasue normally \n",
      "people with higher BMI will have higher chance to get illness so that the insurance company may charge more on them.\n",
      "\n",
      "However, in order to look into deeper, we compare the the smoking habit and regions for both top 20% and rest 80%. \n",
      "      \n",
      "We can observe that people with top 20% of insurance expense have more people with smoking habit (93.8%). In the \n",
      "meanwhile, people with rest 80% of insurance expenses have more people without smoking habit (77.6%). This is \n",
      "reasonable that people with smoking habit will have higher chance to get lung cancer, high blood pressure and other \n",
      "healthy issues.\n",
      "      \n",
      "On the other hand, the region is not a primary factor of insurace expense difference. The largest difference between \n",
      "top 20% and rest 80% is the southeast but it is only 7% which is not so large. So, we can consider that region is not \n",
      "a primary factor to impact the insurance expense.\n"
     ]
    }
   ],
   "source": [
    "# Sort the data by the expenses decreasingly. Split the data into top 20% and rest 80%.\n",
    "df_sort_by_expense = df[df[:,-1].astype(float).argsort()][::-1]\n",
    "df_20 = df_sort_by_expense[range(round(df.shape[0]*0.2))]\n",
    "df_80 = df_sort_by_expense[range(round(df.shape[0]*0.2), df.shape[0])]\n",
    "\n",
    "# Compute the respective mean, standard deviation, and median for top 20% and rest 80%\n",
    "result = calculator(result, \"BMI of Top 20%\", df_20[:,2].astype(float))\n",
    "result = calculator(result, \"BMI of Rest 80%\", df_80[:,2].astype(float))\n",
    "\n",
    "# Save the result to a .txt file.\n",
    "np.savetxt(\"Result.txt\", result, fmt = ['%19s', '%10s', '%10s', '%10s'])\n",
    "\n",
    "# Smoke habit for top 20%.\n",
    "smoke_habit_top20 = np.array([[\"Condition\", \"Frequency(%)\"]])\n",
    "smoke_habit_top20 = mode(smoke_habit_top20, df_20[:,4])\n",
    "\n",
    "# Smoke habit for rest 80%.\n",
    "smoke_habit_rest80 = np.array([[\"Condition\", \"Frequency(%)\"]])\n",
    "smoke_habit_rest80 = mode(smoke_habit_rest80, df_80[:,4])\n",
    "\n",
    "# Region distribution for top 20%.\n",
    "region_top20 = np.array([[\"Region\", \"Frequency(%)\"]])\n",
    "region_top20 = mode(region_top20, df_20[:,5])\n",
    "\n",
    "# Region distribution for rest 80%.\n",
    "region_rest80 = np.array([[\"Region\", \"Frequency(%)\"]])\n",
    "region_rest80 = mode(region_rest80, df_80[:,5])\n",
    "\n",
    "print(\"\"\"Comparing the BMI mean, standard deviation, and median for top 20% and rest 80%, we can see that people with \n",
    "top 20% of insurance expenses have larger BMI mean, median than the rest 80%. This is reasonable becasue normally \n",
    "people with higher BMI will have higher chance to get illness so that the insurance company may charge more on them.\n",
    "\n",
    "However, in order to look into deeper, we compare the the smoking habit and regions for both top 20% and rest 80%. \n",
    "      \n",
    "We can observe that people with top 20% of insurance expense have more people with smoking habit (93.8%). In the \n",
    "meanwhile, people with rest 80% of insurance expenses have more people without smoking habit (77.6%). This is \n",
    "reasonable that people with smoking habit will have higher chance to get lung cancer, high blood pressure and other \n",
    "healthy issues.\n",
    "      \n",
    "On the other hand, the region is not a primary factor of insurace expense difference. The largest difference between \n",
    "top 20% and rest 80% is the southeast but it is only 7% which is not so large. So, we can consider that region is not \n",
    "a primary factor to impact the insurance expense.\"\"\")"
   ]
  },
  {
   "cell_type": "code",
   "execution_count": null,
   "metadata": {},
   "outputs": [],
   "source": []
  }
 ],
 "metadata": {
  "kernelspec": {
   "display_name": "Python 3",
   "language": "python",
   "name": "python3"
  },
  "language_info": {
   "codemirror_mode": {
    "name": "ipython",
    "version": 3
   },
   "file_extension": ".py",
   "mimetype": "text/x-python",
   "name": "python",
   "nbconvert_exporter": "python",
   "pygments_lexer": "ipython3",
   "version": "3.8.5"
  }
 },
 "nbformat": 4,
 "nbformat_minor": 4
}
