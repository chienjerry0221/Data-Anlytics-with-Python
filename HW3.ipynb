{
 "cells": [
  {
   "cell_type": "markdown",
   "metadata": {},
   "source": [
    "## Question 1"
   ]
  },
  {
   "cell_type": "markdown",
   "metadata": {},
   "source": [
    "Develop a set of functions to analyze tweeter data. Specifically, write a program to prompt the user to enter a tweeter string. The program should develop a set of functions for the following string operations: \n",
    "1.\tWord counter: count the number of words in the string and display it. For instance, for an input of “I will complete MSDA in one year.”, the program should display 7 words.\n",
    "2.\tAverage number of characters: calculate average number of characters in each word. For instance, this above string has 27 characters (excluding white spaces) and 7 words. The average is 27/7 = 3.86.\n",
    "3.\tUpper case letters: count upper case letters.  They are 5 upper case letters in the above string.\n",
    "4.\tLower case letters: count lower case letters.  They are 21 lower case letters in the above string.\n",
    "5.\tReverse the string: write a function named reverse() which should take a string and return the reversed string.\n",
    "6.\tString Stats: The program should count and display the number of alphabets (a to z, and A to Z), number of digits (0 to 9) [5 points] and number of special characters (such as #, $, @).  For this, write a function.\n"
   ]
  },
  {
   "attachments": {},
   "cell_type": "markdown",
   "metadata": {},
   "source": [
    "Use the following two tweet as test cases:\n",
    "\n",
    "Tweet-1 \n",
    "'lets you choose #CleanPower for NO additional cost! IT IS A NO-BRAINER!!!'\n",
    "\n",
    "Tweet-2\n",
    "'Tesla software V10 is lookin real good! Releasing to early access list soon …'"
   ]
  },
  {
   "cell_type": "code",
   "execution_count": 2,
   "metadata": {},
   "outputs": [
    {
     "name": "stdout",
     "output_type": "stream",
     "text": [
      "Enter a Tweet: 'lets you choose #CleanPower for NO additional cost! IT IS A NO-BRAINER!!!'\n",
      "Number of word: 12\n",
      "Average number of characters:  5.33\n",
      "Number of upper case letters:  18\n",
      "Number of lower case letters:  38\n",
      "Your tweet reversed:\n",
      " '!!!RENIARB-ON A SI TI !tsoc lanoitidda ON rof rewoPnaelC# esoohc uoy stel'\n",
      "Number of alphabets (a to z, and A to Z):  56\n",
      "Number of digits 0 to 9:  0\n",
      "Number of special characters (such as #, $, @):  8\n"
     ]
    }
   ],
   "source": [
    "def word_counter(tweet):\n",
    "    # This function counts the number of words in the string and display it.\n",
    "    word_list = tweet.split()\n",
    "    word_count = len(word_list)\n",
    "    print(\"Number of word:\", word_count)\n",
    "\n",
    "def average_number_of_character(tweet):\n",
    "    # This function calculates average number of characters in each word.\n",
    "    word_list = tweet.split()\n",
    "    word_count = len(word_list)\n",
    "    character_counter = 0\n",
    "    for ch in tweet:\n",
    "        if ch != \" \":\n",
    "            character_counter += 1\n",
    "    avg_num_of_ch = round(character_counter / word_count, 2)\n",
    "    print(\"Average number of characters: \", avg_num_of_ch)\n",
    "\n",
    "def upper_case_counter(tweet):\n",
    "    # This function counts upper case letters.\n",
    "    upper_counter = 0\n",
    "    for ch in tweet:\n",
    "        if ch.isupper():\n",
    "            upper_counter += 1\n",
    "    print(\"Number of upper case letters: \", upper_counter)\n",
    "\n",
    "def lower_case_counter(tweet):\n",
    "    # This function counts lower case letters.\n",
    "    lower_counter = 0\n",
    "    for ch in tweet:\n",
    "        if ch.islower():\n",
    "            lower_counter += 1\n",
    "    print(\"Number of lower case letters: \", lower_counter)\n",
    "\n",
    "def reverse(tweet):\n",
    "    # This function reverses the string.\n",
    "    reversed_tweet = tweet[::-1]\n",
    "    print(\"Your tweet reversed:\\n\", reversed_tweet)\n",
    "\n",
    "def string_stat(tweet):\n",
    "    # This function counts and display the number of alphabets, number of \n",
    "    # digits and number of special characters. \n",
    "    alphabet_counter, numeric_counter, special_counter = 0, 0, 0\n",
    "    for ch in tweet:\n",
    "        if ch.isalpha():\n",
    "            alphabet_counter += 1\n",
    "        elif ch.isdigit():\n",
    "            numeric_counter += 1\n",
    "        elif ch.isspace():\n",
    "            continue\n",
    "        else:\n",
    "            special_counter += 1\n",
    "    print(\"Number of alphabets (a to z, and A to Z): \", alphabet_counter)\n",
    "    print(\"Number of digits 0 to 9: \", numeric_counter)\n",
    "    print(\"Number of special characters (such as #, $, @): \", special_counter)\n",
    "    \n",
    "tweet = input(\"Enter a Tweet: \")\n",
    "word_counter(tweet)\n",
    "average_number_of_character(tweet)\n",
    "upper_case_counter(tweet)\n",
    "lower_case_counter(tweet)\n",
    "reverse(tweet)\n",
    "string_stat(tweet)"
   ]
  },
  {
   "cell_type": "markdown",
   "metadata": {},
   "source": [
    "## Question 2"
   ]
  },
  {
   "attachments": {},
   "cell_type": "markdown",
   "metadata": {},
   "source": [
    "A Personal Fitness Tracker is a wearable device that tracks your physical activity, calories burned, heart rate, sleeping patterns, and so on. One common physical activity that most of these devices track is the number of steps you take each day. You will find a file named steps.txt in this folder. \n",
    "\n",
    "The steps.txt file contains the number of steps a person has taken each day for a year. There are 365 lines in the file, and each line contains the number of steps taken during a day. (The first line is the number of steps taken on January 1st, the second line is the number of steps taken on January 2nd, and so forth.) \n",
    "\n",
    "Write a program that reads the file, then displays the average, minimum, and maximum number of steps taken for each month. The data is from a year that was not a leap year, so February has 28 days. Display the output in a tabular format."
   ]
  },
  {
   "cell_type": "code",
   "execution_count": 5,
   "metadata": {},
   "outputs": [
    {
     "name": "stdout",
     "output_type": "stream",
     "text": [
      "Month\t\tAverage\t\tMinimum\t\tMaximum\n",
      "=====================================================\n",
      "1\t\t5246.10\t\t 255\t\t10745\n",
      "2\t\t4851.86\t\t 685\t\t10578\n",
      "3\t\t5777.61\t\t 398\t\t10453\n",
      "4\t\t5802.13\t\t1106\t\t10951\n",
      "5\t\t4711.55\t\t 552\t\t 9660\n",
      "6\t\t4792.33\t\t 634\t\t 9606\n",
      "7\t\t5638.23\t\t  41\t\t10944\n",
      "8\t\t5759.65\t\t  68\t\t10988\n",
      "9\t\t6114.57\t\t 606\t\t10984\n",
      "10\t\t5411.03\t\t 808\t\t10667\n",
      "11\t\t4268.80\t\t 237\t\t10409\n",
      "12\t\t5138.06\t\t 709\t\t10470\n"
     ]
    }
   ],
   "source": [
    "# Read the file and assign the data to a variable called steps.\n",
    "file = open('steps.txt')\n",
    "steps = file.read().splitlines()\n",
    "\n",
    "# List the number of days in each month of a not leap year. Also, set an initial day counter, days_passed.\n",
    "days_of_a_month = [31, 28, 31, 30, 31, 30, 31, 31, 30, 31, 30, 31]\n",
    "days_passed = 0\n",
    "\n",
    "\n",
    "print(\"Month\", \"Average\", \"Minimum\", \"Maximum\", sep = '\\t\\t')\n",
    "print(\"=====================================================\")\n",
    "\n",
    "# This for loop will iterate over each month i.e., 12 times.\n",
    "for i in range(len(days_of_a_month)):\n",
    "    steps_for_a_month = []  # Initial a list for each month.\n",
    "    \n",
    "    # This for loop will iterate over from the first day of a month to the last day of that month and append them to \n",
    "    # the list.\n",
    "    for j in range(days_passed, days_passed + days_of_a_month[i]):\n",
    "        steps_for_a_month.append(int(steps[j]))\n",
    "    \n",
    "    # After listing the steps of each day within a month, find out the Average, Maximum and Minimum steps for it.\n",
    "    print(i + 1, format(sum(steps_for_a_month)/days_of_a_month[i], '.2f'), \n",
    "          format(min(steps_for_a_month), '4.0f'), \n",
    "          format(max(steps_for_a_month), '5.0f'), sep = \"\\t\\t\")\n",
    "    \n",
    "    # After calculate a month, number of days of that month will be added to the day counter.\n",
    "    days_passed += days_of_a_month[i]"
   ]
  }
 ],
 "metadata": {
  "kernelspec": {
   "display_name": "Python 3",
   "language": "python",
   "name": "python3"
  },
  "language_info": {
   "codemirror_mode": {
    "name": "ipython",
    "version": 3
   },
   "file_extension": ".py",
   "mimetype": "text/x-python",
   "name": "python",
   "nbconvert_exporter": "python",
   "pygments_lexer": "ipython3",
   "version": "3.8.5"
  }
 },
 "nbformat": 4,
 "nbformat_minor": 4
}
