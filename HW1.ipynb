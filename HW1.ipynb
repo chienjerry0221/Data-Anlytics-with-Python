{
 "cells": [
  {
   "cell_type": "markdown",
   "metadata": {},
   "source": [
    "## Question 1"
   ]
  },
  {
   "cell_type": "markdown",
   "metadata": {},
   "source": [
    "Write a program that converts Celsius temperatures to Fahrenheit temperatures."
   ]
  },
  {
   "cell_type": "code",
   "execution_count": 3,
   "metadata": {},
   "outputs": [
    {
     "name": "stdout",
     "output_type": "stream",
     "text": [
      "Please enter the temperature in Celsius: 72\n",
      "\n",
      "Temperature at 72.0 in Celsius equals to 161.6 in Fahrenheit.\n"
     ]
    }
   ],
   "source": [
    "# Ask users to enter the temperature in Celsius and convert it to floating \n",
    "# number. \n",
    "C = float(input(\"Please enter the temperature in Celsius: \"))\n",
    "\n",
    "# Calculate from Celsius to Fahrenheit.\n",
    "F = (9/5)*C + 32\n",
    "\n",
    "# Print out the result.\n",
    "print()\n",
    "print(\"Temperature at\", C, \"in Celsius equals to\", F, \"in Fahrenheit.\") "
   ]
  },
  {
   "cell_type": "markdown",
   "metadata": {},
   "source": [
    "## Question 2"
   ]
  },
  {
   "cell_type": "markdown",
   "metadata": {},
   "source": [
    "When a bank account pays compound interest, it pays interest not only on the principal amount that was deposited into the account, but also on the interest that has accumulated over time. Suppose you want to deposit some money into a savings account, and let the account earn compound interest for a certain number of years. The formula for calculating the balance of the account after a specified number of years is:\n",
    "\n",
    "A = P(1+r/n)^nt\n",
    "\n",
    "The terms in the formula are:\n",
    "•\tA is the amount of money in the account after the specified number of years.\n",
    "•\tP is the principal amount that was originally deposited into the account.\n",
    "•\tr is the annual interest rate.\n",
    "•\tn is the number of times per year that the interest is compounded.\n",
    "•\tt is the specified number of years.\n",
    "\n",
    "Write a program that makes the calculation for you. The program should ask the user to input the following\n",
    "•\tThe amount of principal originally deposited into the account\n",
    "•\tThe annual interest rate paid by the account\n",
    "•\tThe number of times per year that the interest is compounded (For example, if interest is compounded monthly, enter 12. If interest is compounded quarterly, enter 4.)\n",
    "•\tThe number of years the account will be left to earn interest"
   ]
  },
  {
   "cell_type": "code",
   "execution_count": 5,
   "metadata": {},
   "outputs": [
    {
     "name": "stdout",
     "output_type": "stream",
     "text": [
      "Please enter the money you would like to deposit: 10000\n",
      "Please enter the annual interest rate in decimals paid by the account: 0.02\n",
      "Please enter the number of times per year that the interest is compounded: 1\n",
      "Please enter the number of years the account will be left to earn interest: 10\n",
      "\n",
      "You deposit 10,000.00 originally. The account has annual interest rate of 0.02 and compounded 1 time(s) a year.\n",
      "After 10 year(s), you will have 12,189.94 in your account.\n"
     ]
    }
   ],
   "source": [
    "# Ask user to input the initial deposit, annual interest rate, number of times\n",
    "# per year that the interest compounded, number of years the account will be \n",
    "# left to earn interest.\n",
    "P = float(input(\"Please enter the money you would like to deposit: \"))\n",
    "r = float(input(\"Please enter the annual interest rate in decimals paid by the account: \"))\n",
    "n = int(input(\"Please enter the number of times per year that the interest is compounded: \"))\n",
    "t = int(input(\"Please enter the number of years the account will be left to earn interest: \"))\n",
    "\n",
    "# Calculate the final money the account will have.\n",
    "A = P * (1+r/n)**(n*t)\n",
    "\n",
    "# Print out the result.\n",
    "print()\n",
    "print(\"You deposit\", format(P, ',.2f'), \"originally. The account has annual interest rate of\", r, \"and compounded\" \\\n",
    "      , n, \"time(s) a year.\")\n",
    "print(\"After\", t, \"year(s), you will have\", format(A, ',.2f'), \"in your account.\")"
   ]
  }
 ],
 "metadata": {
  "kernelspec": {
   "display_name": "Python 3",
   "language": "python",
   "name": "python3"
  },
  "language_info": {
   "codemirror_mode": {
    "name": "ipython",
    "version": 3
   },
   "file_extension": ".py",
   "mimetype": "text/x-python",
   "name": "python",
   "nbconvert_exporter": "python",
   "pygments_lexer": "ipython3",
   "version": "3.8.5"
  }
 },
 "nbformat": 4,
 "nbformat_minor": 4
}
